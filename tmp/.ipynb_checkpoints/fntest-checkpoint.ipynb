{
 "cells": [
  {
   "cell_type": "code",
   "execution_count": 1,
   "metadata": {},
   "outputs": [],
   "source": [
    "import numpy as np\n",
    "from scipy.io import loadmat\n",
    "import matplotlib.pyplot as plt\n",
    "import seaborn as sns\n",
    "from pathlib import Path\n",
    "from easydict import EasyDict as edict\n",
    "import torch\n",
    "import time\n",
    "from tqdm import tqdm_notebook as tqdm\n",
    "from scipy import signal\n",
    "%matplotlib inline"
   ]
  },
  {
   "cell_type": "markdown",
   "metadata": {},
   "source": [
    "### Filter to a tensor"
   ]
  },
  {
   "cell_type": "code",
   "execution_count": 2,
   "metadata": {},
   "outputs": [],
   "source": [
    "def mat2Tensor(dat, fs, bandsCuts=None, Nord=None, q=None):\n",
    "    \"\"\"\n",
    "    To do filter on the intial data which would yeild a 3-mode tensor with shape d x dF x dT\n",
    "    dF: the length along the frequeny mode\n",
    "    dT: the length along the time mode\n",
    "    args\n",
    "    dat: the array data to do filter, d x dT\n",
    "    fs: the sampling freq of the dat\n",
    "    bandsCuts: the cirtical freqs to use\n",
    "    Nord: The order of the filter\n",
    "    \"\"\"\n",
    "    if Nord is None:\n",
    "        Nord = 10\n",
    "    if bandsCuts is None:\n",
    "        bandsCuts = [[2, 3.5], [4, 7], [8, 12], [13, 30], [30, 80]]\n",
    "    filDats = []\n",
    "    for bandsCut in bandsCuts:\n",
    "        sos = signal.butter(Nord, bandsCut, btype=\"bp\", fs=fs, output=\"sos\")\n",
    "        filDat = signal.sosfilt(sos, dat, axis=-1)\n",
    "        filDats.append(filDat)\n",
    "    filDats = np.array(filDats)\n",
    "    filDats = np.transpose(filDats, (1, 0, 2))\n",
    "    if q is not None:\n",
    "        filDats = signal.decimate(filDats, q=q)\n",
    "    \n",
    "    X = filDats[:, :, :-1]\n",
    "    Y = filDats[:, :, 1:]\n",
    "    \n",
    "    return edict({\"X\":X, \"Y\":Y})"
   ]
  },
  {
   "cell_type": "code",
   "execution_count": 3,
   "metadata": {},
   "outputs": [],
   "source": [
    "def GetAmat(Y, X, times, freqs, downrates=1, hs=None):\n",
    "    \"\"\"\n",
    "    Input: \n",
    "        Y: A tensor with shape, d x dF x dT\n",
    "        X: A tensor with shape, d x dF x dT\n",
    "        times: A list of time points with length dT\n",
    "        freqs: A list of frequency points with length dF\n",
    "        downrates: The downrate factors for freq and time, determine how many A(s_i, t_i) matrix to be summed\n",
    "        hs: the bandwidths for the kernel regression.\n",
    "    Return:\n",
    "        A d x d matrix, it is sum of dF x dT/downrates  A(s_i, t_i) matrix\n",
    "    \"\"\"\n",
    "    d, dF, dT = X.shape\n",
    "    hF, hT = hs\n",
    "    if len(downrates) == 1:\n",
    "        DRF = DRT = downrates\n",
    "    else:\n",
    "        DRF, DRT = downrates\n",
    "        \n",
    "    Ytrans = np.transpose(Y, (1, 2, 0)) # dF x dT * d\n",
    "    Xtrans = np.transpose(X, (1, 2, 0))\n",
    "        \n",
    "    Amat = np.zeros((d, d))\n",
    "    for idxf, fs in enumerate(freqs[::DRF]):\n",
    "        for idxt, ts in enumerate(times[::DRT]):\n",
    "            t_diff = times - ts\n",
    "            freqs_diff = freqs- fs\n",
    "            \n",
    "            kernelst = 1/np.sqrt(2*np.pi) * np.exp(-t_diff**2/2/hT**2) # normal_pdf(x/h)\n",
    "            kernelsf = 1/np.sqrt(2*np.pi) * np.exp(-freqs_diff**2/2/hF**2) # normal_pdf(x/h)\n",
    "            \n",
    "            kernelroot = (kernelsf[:, np.newaxis] * kernelst)  ** (1/2) #  dF x dT\n",
    "            \n",
    "            kerY = kernelroot[:, :, np.newaxis] * (Ytrans) # dF x dT x d\n",
    "            kerX = kernelroot[:, :, np.newaxis] * (Xtrans) # dF x dT x d\n",
    "            kerYmat = kerY.reshape(-1, d)\n",
    "            kerXmat = kerX.reshape(-1, d)\n",
    "            \n",
    "            M = kerXmat.T.dot(kerXmat)/dF/dT\n",
    "            XY = kerYmat.T.dot(kerXmat)/dF/dT\n",
    "            \n",
    "            invM = np.linalg.inv(M)\n",
    "            Amat = Amat + XY.dot(invM)\n",
    "    return Amat"
   ]
  },
  {
   "cell_type": "code",
   "execution_count": 4,
   "metadata": {},
   "outputs": [],
   "source": [
    "torch.set_default_tensor_type(torch.cuda.DoubleTensor)\n",
    "\n",
    "def GetAmatTorch(Y, X, times, freqs, downrates=1, hs=None):\n",
    "    \"\"\"\n",
    "    Input: \n",
    "        Y: A tensor with shape, d x dF x dT\n",
    "        X: A tensor with shape, d x dF x dT\n",
    "        times: A list of time points with length dT\n",
    "        freqs: A list of frequency points with length dF\n",
    "        downrates: The downrate factors for freq and time, determine how many A(s_i, t_i) matrix to be summed\n",
    "        hs: the bandwidths for the kernel regression.\n",
    "    Return:\n",
    "        A d x d matrix, it is sum of dF x dT/downrates  A(s_i, t_i) matrix\n",
    "    \"\"\"\n",
    "    d, dF, dT = X.shape\n",
    "    hF, hT = hs\n",
    "    if len(downrates) == 1:\n",
    "        DRF = DRT = downrates\n",
    "    else:\n",
    "        DRF, DRT = downrates\n",
    "        \n",
    "    Ytrans = torch.tensor(np.transpose(Y, (1, 2, 0))) # dF x dT * d\n",
    "    Xtrans = torch.tensor(np.transpose(X, (1, 2, 0)))\n",
    "        \n",
    "    Amat = torch.zeros(d, d)\n",
    "    for idxf, fs in enumerate(freqs[::DRF]):\n",
    "        for idxt, ts in enumerate(times[::DRT]):\n",
    "            t_diff = times - ts\n",
    "            freqs_diff = freqs- fs\n",
    "            \n",
    "            kernelst = 1/np.sqrt(2*np.pi) * np.exp(-t_diff**2/2/hT**2) # normal_pdf(x/h)\n",
    "            kernelsf = 1/np.sqrt(2*np.pi) * np.exp(-freqs_diff**2/2/hF**2) # normal_pdf(x/h)\n",
    "            kernelst = torch.tensor(kernelst)\n",
    "            kernelsf = torch.tensor(kernelsf)\n",
    "            \n",
    "            kernelroot = (kernelsf.unsqueeze(-1) * kernelst)  ** (1/2) #  dF x dT\n",
    "            \n",
    "            kerY = kernelroot.unsqueeze(-1)* (Ytrans) # dF x dT x d\n",
    "            kerX = kernelroot.unsqueeze(-1) * (Xtrans) # dF x dT x d\n",
    "            kerYmat = kerY.reshape(-1, d)\n",
    "            kerXmat = kerX.reshape(-1, d)\n",
    "            \n",
    "            M = kerXmat.T.mm(kerXmat)/dF/dT\n",
    "            XY = kerYmat.T.mm(kerXmat)/dF/dT\n",
    "            \n",
    "            invM = torch.inverse(M)\n",
    "            Amat = Amat + XY.mm(invM)\n",
    "    return np.array(Amat.cpu())"
   ]
  },
  {
   "cell_type": "code",
   "execution_count": 5,
   "metadata": {},
   "outputs": [],
   "source": [
    "def genDiffMatfn(R, D):\n",
    "    \"\"\"\n",
    "    Generate the Matrix for different of parameters, D_\\mu and D_\\nu, RD-R x RD\n",
    "    \"\"\"\n",
    "    mat = torch.zeros(R*D-R, R*D, dtype=torch.int8)\n",
    "    mat[:, R:] += torch.eye(R*D-R, dtype=torch.int8)\n",
    "    mat[:, :-R] += -torch.eye(R*D-R, dtype=torch.int8)\n",
    "    return mat.to_sparse().double()\n",
    "\n",
    "def genIdenMatfn(s, R, D):\n",
    "    \"\"\"\n",
    "    Generate the (R x RD) Matrix with only s^th (from 1) block is identity matrix \n",
    "    s: The index is from 1 not 0\n",
    "    \"\"\"\n",
    "    assert s <= D, \"Parameter s is to large!\"\n",
    "    s = s - 1\n",
    "    mat = torch.zeros(R, R*D, dtype=torch.int8)\n",
    "    mat[:, R*s:(R*s+R)] += torch.eye(R, dtype=torch.int8)\n",
    "    return mat.to_sparse().double()"
   ]
  },
  {
   "cell_type": "code",
   "execution_count": 24,
   "metadata": {},
   "outputs": [],
   "source": [
    "torch.set_default_tensor_type(torch.cuda.DoubleTensor)\n",
    "class OneStepOpt():\n",
    "    \"\"\"\n",
    "        I concatenate the real and image part into one vector.\n",
    "    \"\"\"\n",
    "    def __init__(self, X, Y, pUinv, fixedParas, lastTheta, **paras):\n",
    "        \"\"\"\n",
    "         Input: \n",
    "             Y: A tensor with shape, d x dF x dT\n",
    "             X: A tensor with shape, d x dF x dT\n",
    "             pUinv, the first R row of the inverse of the eigen vector matrix, R x d, complex data\n",
    "             fixedParas: The fixed parameters when optimizing, real data \n",
    "                 when update \\mu, 2R x dT\n",
    "                 when update \\nu, 2R x dF\n",
    "             lastTheta: The parameters for optimizing at the last time step, initial parameters, vector of 2R(D-1), real data\n",
    "             paras:\n",
    "                 beta: tuning parameter for iteration\n",
    "                 alp: tuning parameter for iteration\n",
    "                 rho: a vector of length (D-1)2R, real data\n",
    "                 lam: the parameter for SCAD\n",
    "                 a: the parameter for SCAD, > 1+1/beta\n",
    "                 iterNum:  integer, number of iterations\n",
    "                 iterC: decimal, stopping rule\n",
    "        \"\"\"\n",
    "        \n",
    "        \n",
    "        self.paras = edict()\n",
    "        for key in paras.keys():\n",
    "            self.paras[key] = paras[key]\n",
    "            \n",
    "        self.d, self.dF, self.dT = X.shape\n",
    "        self.R2, _ = fixedParas.shape\n",
    "        self.D = int(lastTheta.shape[0]/self.R2+1)\n",
    "        self.nD = self.dF if self.D == self.dT else self.dT\n",
    "        \n",
    "        self.pUinv = torch.tensor(pUinv)\n",
    "        self.X = torch.tensor(X).type_as(self.pUinv)\n",
    "        self.Y = torch.tensor(Y).type_as(self.pUinv)\n",
    "        \n",
    "        R = int(self.R2/2)\n",
    "        fixedParas = torch.tensor(fixedParas)\n",
    "        self.fixedParas = torch.complex(fixedParas[:R, :], fixedParas[R:, :]).type_as(self.pUinv) # R x D\n",
    "        \n",
    "        self.lastTheta= torch.tensor(lastTheta)\n",
    "        \n",
    "        self.DiffMat = genDiffMatfn(self.R2, self.D)\n",
    "        \n",
    "        self.newVecGam = None\n",
    "        self.halfRho = None\n",
    "        self.rho = self.paras.rho\n",
    "        self.lam = self.paras.lam\n",
    "        self.a = self.paras.a \n",
    "        if \"iterNum\" not in self.paras.keys():\n",
    "            self.iterNum = None\n",
    "        else:\n",
    "            self.iterNum = self.paras.iterNum\n",
    "        if \"iterC\" not in self.paras.keys():\n",
    "            self.iterC = None\n",
    "        else:\n",
    "            self.iterC = self.paras.iterC\n",
    "            \n",
    "        self.leftMat = None\n",
    "        self.NewXYR2Sum = None\n",
    "        \n",
    "    def obtainNewData(self):\n",
    "        pY = self.Y.permute(1, 2, 0) # dF x dT x d\n",
    "        pX = self.X.permute(1, 2, 0)\n",
    "        cNewX = pX.matmul(self.pUinv.T)  # dF x dT x R\n",
    "        if self.D == self.dF:\n",
    "            cNewY = pY.matmul(self.pUinv.T) * (1/self.fixedParas.T) # dF x dT x R\n",
    "        else:\n",
    "            cNewY = pY.matmul(self.pUinv.T) * (1/self.fixedParas.T).unsqueeze(1) # dF x dT x R\n",
    "        self.NewXr = cNewX.real\n",
    "        self.NewYr = cNewY.real\n",
    "        self.NewXi = cNewX.imag\n",
    "        self.NewYi = cNewY.imag\n",
    "        \n",
    "    \n",
    "    def updateVecGam(self):\n",
    "        \"\"\"\n",
    "            Update the Gamma matrix, first step \n",
    "        \"\"\"\n",
    "        optAxis = 1 if self.D == self.dF else 0\n",
    "        \n",
    "        if self.leftMat is None:\n",
    "            NewXSq = self.NewXr**2 + self.NewXi**2\n",
    "            NewXSqR2 = torch.cat((NewXSq, NewXSq), dim=2) # dF x dT x 2R\n",
    "            NewXSqR2Sum = NewXSqR2.sum(axis=optAxis) # dF x 2R or dT x 2R\n",
    "            self.leftMat = torch.diag(NewXSqR2Sum.flatten())/self.nD +  \\\n",
    "                    self.paras.beta * torch.matmul(self.DiffMat.to_dense().T, self.DiffMat.to_dense())\n",
    "        \n",
    "        if self.NewXYR2Sum is None:\n",
    "            NewXY1 = self.NewXr * self.NewYr + self.NewXi * self.NewYi\n",
    "            NewXY2 = -self.NewXi * self.NewYr + self.NewXr * self.NewYi\n",
    "            NewXYR2 = torch.cat((NewXY1, NewXY2), dim=2) # dF x dT x 2R\n",
    "            self.NewXYR2Sum = NewXYR2.sum(axis=optAxis) # dF x 2R or dT x 2R\n",
    "        rightVec = self.NewXYR2Sum.flatten()/self.nD + \\\n",
    "                    torch.matmul(self.DiffMat.to_dense().T, self.rho + self.paras.beta * self.lastTheta)\n",
    "        \n",
    "        # self.newVecGam, = torch.inverse(self.leftMat).matmul(rightVec)\n",
    "        # Better way to do so\n",
    "        self.newVecGam, _  = torch.solve(rightVec.reshape(-1, 1), self.leftMat) \n",
    "        self.newVecGam = self.newVecGam.reshape(-1)\n",
    "        \n",
    "    def updateHRho(self):\n",
    "        \"\"\"\n",
    "            Update the vector rho at 1/2 step, second step\n",
    "        \"\"\"\n",
    "        halfRho = self.rho - self.paras.alp * self.paras.beta * (torch.matmul(self.DiffMat, self.newVecGam) - self.lastTheta)\n",
    "        self.halfRho = halfRho\n",
    "       \n",
    "    \n",
    "    def updateTheta(self):\n",
    "        \"\"\"\n",
    "            Update the vector Theta, third step\n",
    "        \"\"\"\n",
    "        halfTheta = self.DiffMat.matmul(self.newVecGam) - self.halfRho/self.paras.beta\n",
    "        tranHTheta = halfTheta.reshape(-1, self.R2) # D-1 x 2R\n",
    "        hThetaL2Norm = tranHTheta.abs().square().sum(axis=1).sqrt() # D-1\n",
    "        normCs = torch.zeros_like(hThetaL2Norm) - 1\n",
    "        \n",
    "        normC1 = hThetaL2Norm - self.lam/self.paras.beta\n",
    "        normC1[normC1<0] = 0\n",
    "        \n",
    "        normC2 = (self.paras.beta * (self.a - 1) * hThetaL2Norm - self.a * self.lam)/(self.paras.beta * self.a - self.paras.beta -1)\n",
    "        \n",
    "        c1 = (1+1/self.paras.beta)* self.lam\n",
    "        c2 = self.a * self.lam\n",
    "        \n",
    "        normCs[hThetaL2Norm<=c1] = normC1[hThetaL2Norm<=c1]\n",
    "        normCs[hThetaL2Norm>c2] = hThetaL2Norm[hThetaL2Norm>c2]\n",
    "        normCs[normCs==-1] = normC2[normCs==-1]\n",
    "        \n",
    "        normCs[normCs!=0] = normCs[normCs!=0]/hThetaL2Norm[normCs!=0]\n",
    "        \n",
    "        self.lastTheta = (tranHTheta*normCs.reshape(-1, 1)).flatten()\n",
    "        \n",
    "    \n",
    "    def updateRho(self):\n",
    "        \"\"\"\n",
    "            Update the vector rho, fourth step\n",
    "        \"\"\"\n",
    "        newRho = self.halfRho - self.paras.alp * self.paras.beta * (torch.matmul(self.DiffMat, self.newVecGam) - self.lastTheta)\n",
    "        self.rho = newRho\n",
    "        \n",
    "    \n",
    "    def __call__(self):\n",
    "        self.obtainNewData()\n",
    "        \n",
    "        if self.iterNum is not None:\n",
    "            for i in tqdm(range(self.iterNum)):\n",
    "                self.updateVecGam()\n",
    "                self.updateHRho()\n",
    "                self.updateTheta\n",
    "                self.updateRho()\n",
    "                #print(self.lastTheta.reshape(-1, self.R2)[0, :])\n",
    "        elif self.iterC is not None:\n",
    "            chDiff = 1e10\n",
    "            self.updateVecGam()\n",
    "            self.updateHRho()\n",
    "            self.updateTheta\n",
    "            self.updateRho()\n",
    "            \n",
    "            lastVecGam = self.newVecGam\n",
    "            while (chDiff >= self.iterC):\n",
    "                self.updateVecGam()\n",
    "                self.updateHRho()\n",
    "                self.updateTheta\n",
    "                self.updateRho()\n",
    "                chDiff = torch.norm(self.newVecGam-lastVecGam)\n",
    "                lastVecGam = self.newVecGam\n",
    "                \n",
    "            \n",
    "        if self.D == self.dF:\n",
    "            newGam = self.newVecGam.reshape(-1, self.R2) # D x 2R\n",
    "            newGamNorm = newGam.square().sum(axis=0).sqrt() # 2R\n",
    "            newGam = newGam/newGamNorm\n",
    "            self.newVecGam = newGam.flatten()"
   ]
  },
  {
   "cell_type": "code",
   "execution_count": 7,
   "metadata": {},
   "outputs": [],
   "source": [
    "dataPath = Path(\"../data\")\n",
    "datF = list(dataPath.glob(\"*.mat\"))[0]"
   ]
  },
  {
   "cell_type": "markdown",
   "metadata": {},
   "source": [
    "Time course is $60$s, so freq is $600$ Hz."
   ]
  },
  {
   "cell_type": "code",
   "execution_count": 8,
   "metadata": {},
   "outputs": [],
   "source": [
    "rawDat = loadmat(datF)\n",
    "dat = rawDat[\"DK_timecourse\"]"
   ]
  },
  {
   "cell_type": "code",
   "execution_count": 9,
   "metadata": {},
   "outputs": [],
   "source": [
    "dat = signal.detrend(dat)\n",
    "fs = 600\n",
    "decQ = 10\n",
    "cDat = mat2Tensor(dat, fs=fs, q=decQ)\n"
   ]
  },
  {
   "cell_type": "code",
   "execution_count": 10,
   "metadata": {},
   "outputs": [],
   "source": [
    "# Avoid stride problem when convert numpy to tensor\n",
    "Y = cDat.Y.copy()\n",
    "X = cDat.X.copy()\n",
    "d, dF, dT = Y.shape\n",
    "freqs = np.linspace(0, dF, dF)\n",
    "times = np.linspace(0, 2, dT)\n",
    "hs = [1, 0.1]\n",
    "downrates = [1, 5]"
   ]
  },
  {
   "cell_type": "code",
   "execution_count": 11,
   "metadata": {},
   "outputs": [],
   "source": [
    "Amat = GetAmatTorch(Y, X, times, freqs, downrates, hs)"
   ]
  },
  {
   "cell_type": "code",
   "execution_count": 12,
   "metadata": {},
   "outputs": [],
   "source": [
    "res = np.linalg.eig(Amat)\n",
    "U = res[1]\n",
    "Uinv = np.linalg.inv(U)"
   ]
  },
  {
   "cell_type": "code",
   "execution_count": 25,
   "metadata": {},
   "outputs": [],
   "source": [
    "R = 5\n",
    "pUinv = Uinv[:R, :]\n",
    "X = X\n",
    "Y = Y\n",
    "d, dF, dT = X.shape\n",
    "D = dF\n",
    "fixedParas = torch.rand(2*R, int(dT*dF/D))\n",
    "lastTheta = torch.rand(2*R*(D-1))\n",
    "alp = 10\n",
    "beta = 10\n",
    "lam = 1e2\n",
    "a = 2.7\n",
    "iterNum = 10\n",
    "rho = torch.ones(2*R*(D-1))"
   ]
  },
  {
   "cell_type": "code",
   "execution_count": 26,
   "metadata": {},
   "outputs": [],
   "source": [
    "opt = OneStepOpt(X=X, Y=Y, pUinv=pUinv, fixedParas=fixedParas.cpu().numpy(), lastTheta=lastTheta.cpu().numpy(), \n",
    "                 alp=alp, beta=beta, lam=lam, a=a, iterNum=iterNum, rho=rho)"
   ]
  },
  {
   "cell_type": "code",
   "execution_count": 27,
   "metadata": {},
   "outputs": [
    {
     "data": {
      "application/vnd.jupyter.widget-view+json": {
       "model_id": "1246014f1c374452948132c7bb145f35",
       "version_major": 2,
       "version_minor": 0
      },
      "text/plain": [
       "HBox(children=(IntProgress(value=0, max=10), HTML(value='')))"
      ]
     },
     "metadata": {},
     "output_type": "display_data"
    },
    {
     "name": "stdout",
     "output_type": "stream",
     "text": [
      "\n"
     ]
    }
   ],
   "source": [
    "opt()"
   ]
  },
  {
   "cell_type": "code",
   "execution_count": 38,
   "metadata": {},
   "outputs": [],
   "source": [
    "optAxis = 1 if opt.D == opt.dF else 0\n",
    "NewXSq = opt.NewXr**2 + opt.NewXi**2\n",
    "NewXSqR2 = torch.cat((NewXSq, NewXSq), dim=2) # dF x dT x 2R\n",
    "NewXSqR2Sum = NewXSqR2.sum(axis=optAxis) # dF x 2R or dT x 2R\n",
    "opt.leftMat = torch.diag(NewXSqR2Sum.flatten())/opt.nD +  \\\n",
    "        opt.paras.beta * torch.matmul(opt.DiffMat.to_dense().T, opt.DiffMat.to_dense())\n",
    "rightVec = opt.NewXYR2Sum.flatten()/opt.nD + \\\n",
    "                    torch.matmul(opt.DiffMat.to_dense().T, opt.rho + opt.paras.beta * opt.lastTheta)\n",
    "\n",
    "\n",
    "opt.newVecGam, _  = torch.solve(rightVec.reshape(-1, 1), opt.leftMat) \n",
    "opt.newVecGam = opt.newVecGam.reshape(-1)"
   ]
  },
  {
   "cell_type": "code",
   "execution_count": 145,
   "metadata": {},
   "outputs": [],
   "source": [
    "mat = genDiffMatfn(2, 8)\n",
    "res = mat.to_dense().T.matmul(mat.to_dense())"
   ]
  },
  {
   "cell_type": "code",
   "execution_count": 31,
   "metadata": {},
   "outputs": [
    {
     "data": {
      "text/plain": [
       "<matplotlib.axes._subplots.AxesSubplot at 0x7f53d99582b0>"
      ]
     },
     "execution_count": 31,
     "metadata": {},
     "output_type": "execute_result"
    },
    {
     "data": {
      "image/png": "[encoded data removed]",
      "text/plain": [
       "<Figure size 432x288 with 2 Axes>"
      ]
     },
     "metadata": {
      "needs_background": "light"
     },
     "output_type": "display_data"
    }
   ],
   "source": [
    "import seaborn as sns\n",
    "sns.heatmap(opt.leftMat.to_dense().cpu().numpy())"
   ]
  },
  {
   "cell_type": "code",
   "execution_count": 40,
   "metadata": {},
   "outputs": [
    {
     "data": {
      "text/plain": [
       "tensor([ 3.6380e-12,  0.0000e+00,  0.0000e+00, -1.4552e-11,  0.0000e+00,\n",
       "         0.0000e+00,  0.0000e+00,  0.0000e+00,  0.0000e+00,  0.0000e+00,\n",
       "         0.0000e+00,  0.0000e+00,  0.0000e+00, -1.4552e-11,  7.2760e-12,\n",
       "         0.0000e+00,  3.6380e-12,  0.0000e+00,  1.4552e-11,  0.0000e+00,\n",
       "         0.0000e+00,  0.0000e+00,  0.0000e+00,  0.0000e+00,  1.4552e-11,\n",
       "         0.0000e+00,  0.0000e+00, -3.6380e-12,  0.0000e+00, -9.0949e-13,\n",
       "         1.9073e-06,  0.0000e+00,  0.0000e+00, -7.2760e-12, -2.3283e-10,\n",
       "        -9.5367e-07,  0.0000e+00,  7.2760e-12,  0.0000e+00,  0.0000e+00,\n",
       "         0.0000e+00,  0.0000e+00,  9.0949e-13,  4.5475e-13,  0.0000e+00,\n",
       "         0.0000e+00,  0.0000e+00,  5.6843e-14,  0.0000e+00,  5.8208e-11])"
      ]
     },
     "execution_count": 40,
     "metadata": {},
     "output_type": "execute_result"
    }
   ],
   "source": [
    "opt.leftMat.matmul(opt.newVecGam) - rightVec"
   ]
  },
  {
   "cell_type": "code",
   "execution_count": 23,
   "metadata": {},
   "outputs": [
    {
     "data": {
      "text/plain": [
       "torch.return_types.solve(\n",
       "solution=tensor([[ 0.1667],\n",
       "        [-0.3922],\n",
       "        [-0.2328],\n",
       "        [-0.0147],\n",
       "        [-0.0623]]),\n",
       "LU=tensor([[ 1.0203, -1.2651, -0.0295, -0.0738,  0.1656],\n",
       "        [-0.9775, -2.8497,  0.8031,  0.0597, -0.1734],\n",
       "        [ 0.7920, -0.2330,  1.8176,  0.2503, -0.1767],\n",
       "        [ 0.3501, -0.2683, -0.3063,  1.1344, -0.6512],\n",
       "        [ 0.4069, -0.3658,  0.3815, -0.6423,  2.6898]]))"
      ]
     },
     "execution_count": 23,
     "metadata": {},
     "output_type": "execute_result"
    }
   ],
   "source": [
    "torch.solve(b, A)"
   ]
  },
  {
   "cell_type": "code",
   "execution_count": null,
   "metadata": {},
   "outputs": [],
   "source": []
  }
 ],
 "metadata": {
  "kernelspec": {
   "display_name": "Python 3",
   "language": "python",
   "name": "python3"
  },
  "language_info": {
   "codemirror_mode": {
    "name": "ipython",
    "version": 3
   },
   "file_extension": ".py",
   "mimetype": "text/x-python",
   "name": "python",
   "nbconvert_exporter": "python",
   "pygments_lexer": "ipython3",
   "version": "3.7.3"
  }
 },
 "nbformat": 4,
 "nbformat_minor": 2
}
