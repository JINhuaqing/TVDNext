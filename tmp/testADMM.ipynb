{
 "cells": [
  {
   "cell_type": "code",
   "execution_count": 28,
   "id": "7abc13f0",
   "metadata": {},
   "outputs": [],
   "source": [
    "import cvxpy as cp\n",
    "import numpy as np\n",
    "import matplotlib.pyplot as plt\n",
    "\n",
    "%matplotlib inline"
   ]
  },
  {
   "cell_type": "code",
   "execution_count": 64,
   "id": "e215c55f",
   "metadata": {},
   "outputs": [],
   "source": [
    "R = 4\n",
    "N = 9"
   ]
  },
  {
   "cell_type": "code",
   "execution_count": 65,
   "id": "a0996389",
   "metadata": {},
   "outputs": [
    {
     "data": {
      "text/plain": [
       "array([[ 0,  0,  2,  0,  0,  5,  0,  0],\n",
       "       [ 0,  0, 10,  0,  0, 13,  0,  0],\n",
       "       [ 0,  0, 18,  0,  0, 21,  0,  0],\n",
       "       [ 0,  0, 26,  0,  0, 29,  0,  0]])"
      ]
     },
     "execution_count": 65,
     "metadata": {},
     "output_type": "execute_result"
    }
   ],
   "source": [
    "# Thetas0\n",
    "Thetas0 = np.arange(R*(N-1)).reshape(R, N-1)\n",
    "Thetas0[:, 0:2] = 0\n",
    "Thetas0[:, 3:5] = 0\n",
    "Thetas0[:, 6:] = 0\n",
    "Thetas0"
   ]
  },
  {
   "cell_type": "code",
   "execution_count": 66,
   "id": "f01ca3f6",
   "metadata": {},
   "outputs": [
    {
     "data": {
      "text/plain": [
       "array([[10, 10, 10, 12, 12, 12, 17, 17, 17],\n",
       "       [ 2,  2,  2, 12, 12, 12, 25, 25, 25],\n",
       "       [ 3,  3,  3, 21, 21, 21, 42, 42, 42],\n",
       "       [ 9,  9,  9, 35, 35, 35, 64, 64, 64]])"
      ]
     },
     "execution_count": 66,
     "metadata": {},
     "output_type": "execute_result"
    }
   ],
   "source": [
    "# Gams\n",
    "Gams0Init = np.array([10, 2, 3, 9]).reshape(-1, 1)\n",
    "tVec = np.concatenate([Gams0Init, Thetas0], axis=1)\n",
    "Gams0 = np.cumsum(tVec, axis=1)\n",
    "Gams0 "
   ]
  },
  {
   "cell_type": "code",
   "execution_count": 67,
   "id": "65c40061",
   "metadata": {},
   "outputs": [],
   "source": [
    "Gams0Vec = Gams0.T.reshape(-1)\n",
    "Theta0Vec = Thetas0.T.reshape(-1)"
   ]
  },
  {
   "cell_type": "markdown",
   "id": "b107907e",
   "metadata": {},
   "source": [
    "### The data"
   ]
  },
  {
   "cell_type": "code",
   "execution_count": 68,
   "id": "e327ab76",
   "metadata": {},
   "outputs": [],
   "source": [
    "Xs = np.random.rand(10, R*N)\n",
    "Ys = Xs * Gams0Vec + np.random.randn(10, R*N)"
   ]
  },
  {
   "cell_type": "markdown",
   "id": "a1cd3120",
   "metadata": {},
   "source": [
    "### Opt"
   ]
  },
  {
   "cell_type": "code",
   "execution_count": 289,
   "id": "075efa47",
   "metadata": {},
   "outputs": [],
   "source": [
    "GamsVec = cp.Variable(R*N, value=np.random.randn(R*N))\n",
    "ThetasVec = cp.Variable(R*(N-1), value=np.random.randn(R*(N-1)))\n",
    "Gams = cp.reshape(GamsVec, (R, N))\n",
    "Thetas = cp.reshape(ThetasVec, (R, N-1))\n",
    "resid = GamsVec[R:] - GamsVec[:-R] - ThetasVec\n",
    "lam = cp.Parameter(value=5000, nonneg=True)\n",
    "g = lam/2 * cp.norm1(cp.norm(Thetas, axis=0))"
   ]
  },
  {
   "cell_type": "code",
   "execution_count": 290,
   "id": "659d3650",
   "metadata": {},
   "outputs": [],
   "source": [
    "rhos = cp.Parameter(R*(N-1), value=np.ones(R*(N-1)))\n",
    "beta = 1"
   ]
  },
  {
   "cell_type": "code",
   "execution_count": 291,
   "id": "7d0d1655",
   "metadata": {},
   "outputs": [],
   "source": [
    "Num = Ys.shape[0]\n",
    "f = 0\n",
    "for i in range(Num):\n",
    "    Y = Ys[i, :]\n",
    "    X = Xs[i, :]\n",
    "    f += cp.sum_squares(Y-cp.multiply(X, GamsVec))"
   ]
  },
  {
   "cell_type": "code",
   "execution_count": 292,
   "id": "4d966cb5",
   "metadata": {},
   "outputs": [],
   "source": [
    "aug_lagr1 = f + rhos.T@resid + (beta/2) * cp.sum_squares(resid)\n",
    "aug_lagr2 = g + rhos.T@resid + (beta/2) * cp.sum_squares(resid)"
   ]
  },
  {
   "cell_type": "code",
   "execution_count": 293,
   "id": "ef7142d0",
   "metadata": {},
   "outputs": [],
   "source": [
    "for k in range(100):\n",
    "    cp.Problem(cp.Minimize(aug_lagr1), [Thetas == Thetas.value]).solve(\"SCS\")\n",
    "    cp.Problem(cp.Minimize(aug_lagr2), [Gams == Gams.value]).solve(\"SCS\")\n",
    "    rhos.value += beta*resid.value"
   ]
  },
  {
   "cell_type": "code",
   "execution_count": 294,
   "id": "12ff66ce",
   "metadata": {},
   "outputs": [
    {
     "data": {
      "text/plain": [
       "2279.2551061127756"
      ]
     },
     "execution_count": 294,
     "metadata": {},
     "output_type": "execute_result"
    }
   ],
   "source": [
    "(rhos.T@resid).value"
   ]
  },
  {
   "cell_type": "code",
   "execution_count": 295,
   "id": "39a06ff4",
   "metadata": {},
   "outputs": [
    {
     "data": {
      "text/plain": [
       "array([[-3.37456953e-06, -3.76602141e-06,  2.00000607e+00,\n",
       "        -3.93128153e-07,  2.34309968e-06,  5.00000294e+00,\n",
       "         2.02389465e-06,  1.20324485e-07],\n",
       "       [-1.25862716e-05, -1.10789036e-05,  1.00000138e+01,\n",
       "         2.00759890e-06,  5.15689157e-06,  1.30000018e+01,\n",
       "         1.13174841e-05,  3.54133105e-06],\n",
       "       [-1.32312235e-05, -1.71939707e-05,  1.80000323e+01,\n",
       "         5.50000993e-07,  1.32371308e-05,  2.10000173e+01,\n",
       "         1.93742109e-05,  3.88488979e-06],\n",
       "       [-3.13600229e-05, -1.62356964e-05,  2.60000296e+01,\n",
       "         7.11259697e-06,  1.21976873e-05,  2.90000090e+01,\n",
       "         2.37753231e-05,  9.23461016e-06]])"
      ]
     },
     "execution_count": 295,
     "metadata": {},
     "output_type": "execute_result"
    }
   ],
   "source": [
    "Thetas0 - Thetas.value"
   ]
  },
  {
   "cell_type": "code",
   "execution_count": 296,
   "id": "c7d8684e",
   "metadata": {},
   "outputs": [
    {
     "data": {
      "text/plain": [
       "array([[ 3.37456953e-06,  3.76602141e-06, -6.06999485e-06,\n",
       "         3.93128153e-07, -2.34309968e-06, -2.93506294e-06,\n",
       "        -2.02389465e-06, -1.20324485e-07],\n",
       "       [ 1.25862716e-05,  1.10789036e-05, -1.37923717e-05,\n",
       "        -2.00759890e-06, -5.15689157e-06, -1.84452889e-06,\n",
       "        -1.13174841e-05, -3.54133105e-06],\n",
       "       [ 1.32312235e-05,  1.71939707e-05, -3.23401573e-05,\n",
       "        -5.50000993e-07, -1.32371308e-05, -1.73457108e-05,\n",
       "        -1.93742109e-05, -3.88488979e-06],\n",
       "       [ 3.13600229e-05,  1.62356964e-05, -2.95662183e-05,\n",
       "        -7.11259697e-06, -1.21976873e-05, -9.00925690e-06,\n",
       "        -2.37753231e-05, -9.23461016e-06]])"
      ]
     },
     "execution_count": 296,
     "metadata": {},
     "output_type": "execute_result"
    }
   ],
   "source": [
    "Thetas.value"
   ]
  },
  {
   "cell_type": "code",
   "execution_count": 267,
   "id": "def98c7c",
   "metadata": {},
   "outputs": [
    {
     "data": {
      "text/plain": [
       "array([[ 0,  0,  2,  0,  0,  5,  0,  0],\n",
       "       [ 0,  0, 10,  0,  0, 13,  0,  0],\n",
       "       [ 0,  0, 18,  0,  0, 21,  0,  0],\n",
       "       [ 0,  0, 26,  0,  0, 29,  0,  0]])"
      ]
     },
     "execution_count": 267,
     "metadata": {},
     "output_type": "execute_result"
    }
   ],
   "source": [
    "Thetas0"
   ]
  },
  {
   "cell_type": "code",
   "execution_count": 297,
   "id": "fb7d09f7",
   "metadata": {},
   "outputs": [
    {
     "data": {
      "text/plain": [
       "array([[ 3.45268622e-02,  2.73395632e-01, -9.25824449e-02,\n",
       "         3.27592827e-01,  6.61045925e-01, -5.85025474e-01,\n",
       "         2.22327408e-01, -8.69308582e-04],\n",
       "       [ 2.00050869e-01,  5.87964148e-01, -3.62491621e-01,\n",
       "         1.43806740e+00,  1.21466380e+00, -9.72719841e-01,\n",
       "         1.25862680e+00,  3.33575841e-01],\n",
       "       [ 2.31962903e-01,  9.49406711e-01, -1.58971398e+00,\n",
       "         1.60130230e+00,  1.71395354e+00, -2.14363324e+00,\n",
       "         1.21902491e+00,  6.15216005e-01],\n",
       "       [ 6.82673051e-01,  1.43383717e+00, -1.05450121e+00,\n",
       "         2.42209104e+00,  1.96806795e+00, -2.19287921e+00,\n",
       "         1.31460394e+00,  3.55287562e-01]])"
      ]
     },
     "execution_count": 297,
     "metadata": {},
     "output_type": "execute_result"
    }
   ],
   "source": [
    "np.diff(Gams.value, axis=1) - Thetas.value"
   ]
  },
  {
   "cell_type": "code",
   "execution_count": null,
   "id": "75fa25dd",
   "metadata": {},
   "outputs": [],
   "source": []
  }
 ],
 "metadata": {
  "kernelspec": {
   "display_name": "Python 3",
   "language": "python",
   "name": "python3"
  },
  "language_info": {
   "codemirror_mode": {
    "name": "ipython",
    "version": 3
   },
   "file_extension": ".py",
   "mimetype": "text/x-python",
   "name": "python",
   "nbconvert_exporter": "python",
   "pygments_lexer": "ipython3",
   "version": "3.6.10"
  }
 },
 "nbformat": 4,
 "nbformat_minor": 5
}
