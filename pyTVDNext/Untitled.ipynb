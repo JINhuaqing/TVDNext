{
 "cells": [
  {
   "cell_type": "code",
   "execution_count": 1,
   "id": "144fae7e",
   "metadata": {},
   "outputs": [],
   "source": [
    "x = \"TEAST\""
   ]
  },
  {
   "cell_type": "code",
   "execution_count": 2,
   "id": "117ff5d6",
   "metadata": {},
   "outputs": [
    {
     "data": {
      "text/plain": [
       "'teast'"
      ]
     },
     "execution_count": 2,
     "metadata": {},
     "output_type": "execute_result"
    }
   ],
   "source": [
    "x.lower()"
   ]
  },
  {
   "cell_type": "code",
   "execution_count": 4,
   "id": "bc6e5499",
   "metadata": {},
   "outputs": [
    {
     "data": {
      "text/plain": [
       "False"
      ]
     },
     "execution_count": 4,
     "metadata": {},
     "output_type": "execute_result"
    }
   ],
   "source": [
    "x.startswith(\"scad\")"
   ]
  },
  {
   "cell_type": "code",
   "execution_count": null,
   "id": "4f17b85e",
   "metadata": {},
   "outputs": [],
   "source": []
  }
 ],
 "metadata": {
  "kernelspec": {
   "display_name": "Python 3",
   "language": "python",
   "name": "python3"
  },
  "language_info": {
   "codemirror_mode": {
    "name": "ipython",
    "version": 3
   },
   "file_extension": ".py",
   "mimetype": "text/x-python",
   "name": "python",
   "nbconvert_exporter": "python",
   "pygments_lexer": "ipython3",
   "version": "3.6.10"
  }
 },
 "nbformat": 4,
 "nbformat_minor": 5
}
