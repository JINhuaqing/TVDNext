{
 "cells": [
  {
   "cell_type": "code",
   "execution_count": 1,
   "id": "f93d5140",
   "metadata": {},
   "outputs": [],
   "source": [
    "import numpy as np\n",
    "from scipy.io import loadmat\n",
    "import matplotlib.pyplot as plt\n",
    "import seaborn as sns\n",
    "from pathlib import Path\n",
    "from easydict import EasyDict as edict\n",
    "from collections import defaultdict as ddict\n",
    "import torch\n",
    "import time\n",
    "from tqdm.autonotebook import tqdm\n",
    "from scipy import signal\n",
    "import time\n",
    "%matplotlib inline\n",
    "import pickle"
   ]
  },
  {
   "cell_type": "code",
   "execution_count": 2,
   "id": "cc7ee4cf",
   "metadata": {},
   "outputs": [],
   "source": [
    "from cUtils import *\n",
    "from tmpUtils import *\n",
    "from Rfuns import bw_nrd0_R"
   ]
  },
  {
   "cell_type": "code",
   "execution_count": 3,
   "id": "827279b9",
   "metadata": {},
   "outputs": [],
   "source": [
    "dataPath = Path(\"../data\")"
   ]
  },
  {
   "cell_type": "markdown",
   "id": "e9bf843d",
   "metadata": {},
   "source": [
    "### Load the Amat from real data"
   ]
  },
  {
   "cell_type": "code",
   "execution_count": 4,
   "id": "e6e3b2c0",
   "metadata": {},
   "outputs": [],
   "source": [
    "if torch.cuda.is_available():\n",
    "    torch.set_default_tensor_type(torch.cuda.DoubleTensor)"
   ]
  },
  {
   "cell_type": "code",
   "execution_count": 5,
   "id": "b507c9ac",
   "metadata": {},
   "outputs": [],
   "source": [
    "realPath = dataPath/\"realmat.pkl\"\n",
    "if realPath.exists():\n",
    "    with open(realPath, \"rb\") as f:\n",
    "        real = pickle.load(f)\n",
    "else:\n",
    "    datF = list(dataPath.glob(\"*.mat\"))[0]\n",
    "    rawDat = loadmat(datF)\n",
    "    dat = rawDat[\"DK_timecourse\"]\n",
    "    fs = 600\n",
    "    q = 50\n",
    "    nDat = mat2Tensor(dat, fs=fs, q=q)\n",
    "    bandsCuts = [[2, 3.5], [4, 7], [8, 12], [13, 30], [30, 80]]\n",
    "    downrates = [1, 1]\n",
    "    hs = [0.1, 0.1]\n",
    "    T = 60\n",
    "    _, dF, dT = nDat.Y.shape\n",
    "    times = np.linspace(0, T, dT)\n",
    "    freqs = np.array([np.mean(bandCut) for bandCut in bandsCuts])\n",
    "    Amat = GetAmatTorch(torch.tensor(nDat.Y.copy()), torch.tensor(nDat.X.copy()), times, freqs, downrates, hs)\n",
    "    \n",
    "    res = np.linalg.eig(Amat)\n",
    "    absEigVs = np.abs(res[0])\n",
    "    # Sort the eigvs and vectors such that the vals is in order\n",
    "    sortIdx = np.argsort(absEigVs)[::-1]\n",
    "    lams = res[0][sortIdx]\n",
    "    U = res[1][:, sortIdx]\n",
    "    \n",
    "    real = edict()\n",
    "    real[\"Amat\"] = Amat\n",
    "    real[\"U\"] = U\n",
    "    real[\"eigVs\"] = lams\n",
    "    real[\"X\"] = nDat.X\n",
    "    real[\"Y\"] = nDat.Y\n",
    "    \n",
    "    with open(realPath, \"wb\") as f:\n",
    "        pickle.dump(real, f)"
   ]
  },
  {
   "cell_type": "code",
   "execution_count": 6,
   "id": "a5523bb4",
   "metadata": {},
   "outputs": [],
   "source": [
    "nR = 6\n",
    "dF = 5\n",
    "dT = 100\n",
    "invU = np.linalg.inv(real.U)\n",
    "pUinv = torch.tensor(invU[:nR, :])\n",
    "rawX = torch.tensor(real.X[:, :dF, :dT]) # d x dF x dT\n",
    "pRawX = rawX.permute(1, 2, 0).type_as(pUinv) # dF x dT x d\n",
    "X = pRawX.matmul(pUinv.T) # dF x dT x R"
   ]
  },
  {
   "cell_type": "code",
   "execution_count": 7,
   "id": "5a235eeb",
   "metadata": {},
   "outputs": [],
   "source": [
    "#kpidx = np.array([0, 1, 2, 4], dtype=np.int8)\n",
    "kpidx = np.array([0, 1, 2, 3, 4, 5], dtype=np.int8)\n",
    "R = len(kpidx)\n",
    "X = X[:, :, kpidx]"
   ]
  },
  {
   "cell_type": "code",
   "execution_count": 8,
   "id": "7a6bc606",
   "metadata": {},
   "outputs": [],
   "source": [
    "ChgsFreq = [2, 4]\n",
    "ChgsT = [25, 47, 83]\n",
    "eigIndAll = real.eigVs.imag != 0\n",
    "ChgsTF = np.concatenate([[0], ChgsT, [dT]])\n",
    "ChgsFreqF = np.concatenate([[0], ChgsFreq, [dF]])"
   ]
  },
  {
   "cell_type": "code",
   "execution_count": 9,
   "id": "fdad1313",
   "metadata": {},
   "outputs": [],
   "source": [
    "eigIndC = eigIndAll[:nR]"
   ]
  },
  {
   "cell_type": "code",
   "execution_count": 10,
   "id": "f106767a",
   "metadata": {},
   "outputs": [],
   "source": [
    "Mus = GenFVecs(nR, eigIndC, ChgsFreqF)\n",
    "Nus = GenFVecs(nR, eigIndC, ChgsTF)"
   ]
  },
  {
   "cell_type": "code",
   "execution_count": 11,
   "id": "ac7fbc98",
   "metadata": {},
   "outputs": [],
   "source": [
    "idx1 = ChgsFreqF[1]\n",
    "Mus[:, 0:idx1].imag = 0"
   ]
  },
  {
   "cell_type": "code",
   "execution_count": 12,
   "id": "f12095f7",
   "metadata": {},
   "outputs": [],
   "source": [
    "Mus = Mus[kpidx, :]\n",
    "Nus = Nus[kpidx, :]\n",
    "stdMus =  Mus /np.linalg.norm(Mus, axis=1).reshape(-1, 1)"
   ]
  },
  {
   "cell_type": "code",
   "execution_count": 13,
   "id": "23843bcf",
   "metadata": {},
   "outputs": [],
   "source": [
    "Y = torch.zeros_like(X)\n",
    "for df in range(dF):\n",
    "    for dt in range(dT):\n",
    "        cX = X[df, dt, :]\n",
    "        cMu = stdMus[:, df]\n",
    "        cNu = Nus[:, dt]\n",
    "        pEigVs = torch.tensor(cMu * cNu)\n",
    "        cY = cX * pEigVs + 1*torch.randn(R)\n",
    "        Y[df, dt, :] = cY"
   ]
  },
  {
   "cell_type": "code",
   "execution_count": 16,
   "id": "25ec8942",
   "metadata": {},
   "outputs": [],
   "source": [
    "outIterC = 1e-6\n",
    "lams = [1e1, 1e1]\n",
    "# lams = [8e1, 5e1] # good para for fixed truth\n",
    "iterNums = [100, 50]\n",
    "betas = [1, 1]\n",
    "iterCs = [1e-8, 1e-8]\n",
    "As = [2.7, 2.7]\n",
    "alps = [0.9, 0.9]"
   ]
  },
  {
   "cell_type": "code",
   "execution_count": 17,
   "id": "33dead05",
   "metadata": {},
   "outputs": [],
   "source": [
    "R2 = 2*R\n",
    "tNus = np.concatenate([Nus.real, Nus.imag])\n",
    "tMus = np.concatenate([stdMus.real, stdMus.imag])\n",
    "paraNuInit = torch.tensor(tNus) + torch.randn(R2, dT)*0\n",
    "paraNuInit = torch.randn(R2, dT)\n",
    "\n",
    "paraMuInit = torch.tensor(tMus) + torch.randn(R2, dF)*0\n",
    "paraMuInit = torch.randn(R2, dF)\n",
    "norm2 = torch.norm(paraMuInit, dim=1)**2\n",
    "newNorm = torch.sqrt(norm2[:R] + norm2[R:])\n",
    "newNorm = torch.cat([newNorm, newNorm])\n",
    "paraMuInitStd = paraMuInit/newNorm.reshape(-1, 1)\n",
    "\n",
    "rho1 = torch.ones(R2*(dF-1))\n",
    "rho2 = torch.ones(R2*(dT-1))\n",
    "rhos = [rho1, rho2]"
   ]
  },
  {
   "cell_type": "code",
   "execution_count": 23,
   "id": "f60be325",
   "metadata": {},
   "outputs": [
    {
     "data": {
      "application/vnd.jupyter.widget-view+json": {
       "model_id": "18375a5cbcb54c2fa7928e4236e83c3e",
       "version_major": 2,
       "version_minor": 0
      },
      "text/plain": [
       "  0%|          | 0/100 [00:00<?, ?it/s]"
      ]
     },
     "metadata": {},
     "output_type": "display_data"
    },
    {
     "data": {
      "application/vnd.jupyter.widget-view+json": {
       "model_id": "",
       "version_major": 2,
       "version_minor": 0
      },
      "text/plain": [
       "  0%|          | 0/100 [00:00<?, ?it/s]"
      ]
     },
     "metadata": {},
     "output_type": "display_data"
    },
    {
     "data": {
      "application/vnd.jupyter.widget-view+json": {
       "model_id": "",
       "version_major": 2,
       "version_minor": 0
      },
      "text/plain": [
       "  0%|          | 0/50 [00:00<?, ?it/s]"
      ]
     },
     "metadata": {},
     "output_type": "display_data"
    },
    {
     "data": {
      "application/vnd.jupyter.widget-view+json": {
       "model_id": "",
       "version_major": 2,
       "version_minor": 0
      },
      "text/plain": [
       "  0%|          | 0/100 [00:00<?, ?it/s]"
      ]
     },
     "metadata": {},
     "output_type": "display_data"
    },
    {
     "data": {
      "application/vnd.jupyter.widget-view+json": {
       "model_id": "",
       "version_major": 2,
       "version_minor": 0
      },
      "text/plain": [
       "  0%|          | 0/50 [00:00<?, ?it/s]"
      ]
     },
     "metadata": {},
     "output_type": "display_data"
    },
    {
     "data": {
      "application/vnd.jupyter.widget-view+json": {
       "model_id": "",
       "version_major": 2,
       "version_minor": 0
      },
      "text/plain": [
       "  0%|          | 0/100 [00:00<?, ?it/s]"
      ]
     },
     "metadata": {},
     "output_type": "display_data"
    },
    {
     "data": {
      "application/vnd.jupyter.widget-view+json": {
       "model_id": "",
       "version_major": 2,
       "version_minor": 0
      },
      "text/plain": [
       "  0%|          | 0/50 [00:00<?, ?it/s]"
      ]
     },
     "metadata": {},
     "output_type": "display_data"
    },
    {
     "data": {
      "application/vnd.jupyter.widget-view+json": {
       "model_id": "",
       "version_major": 2,
       "version_minor": 0
      },
      "text/plain": [
       "  0%|          | 0/100 [00:00<?, ?it/s]"
      ]
     },
     "metadata": {},
     "output_type": "display_data"
    },
    {
     "data": {
      "application/vnd.jupyter.widget-view+json": {
       "model_id": "",
       "version_major": 2,
       "version_minor": 0
      },
      "text/plain": [
       "  0%|          | 0/50 [00:00<?, ?it/s]"
      ]
     },
     "metadata": {},
     "output_type": "display_data"
    },
    {
     "data": {
      "application/vnd.jupyter.widget-view+json": {
       "model_id": "",
       "version_major": 2,
       "version_minor": 0
      },
      "text/plain": [
       "  0%|          | 0/100 [00:00<?, ?it/s]"
      ]
     },
     "metadata": {},
     "output_type": "display_data"
    },
    {
     "data": {
      "application/vnd.jupyter.widget-view+json": {
       "model_id": "",
       "version_major": 2,
       "version_minor": 0
      },
      "text/plain": [
       "  0%|          | 0/50 [00:00<?, ?it/s]"
      ]
     },
     "metadata": {},
     "output_type": "display_data"
    },
    {
     "data": {
      "application/vnd.jupyter.widget-view+json": {
       "model_id": "",
       "version_major": 2,
       "version_minor": 0
      },
      "text/plain": [
       "  0%|          | 0/100 [00:00<?, ?it/s]"
      ]
     },
     "metadata": {},
     "output_type": "display_data"
    },
    {
     "data": {
      "application/vnd.jupyter.widget-view+json": {
       "model_id": "",
       "version_major": 2,
       "version_minor": 0
      },
      "text/plain": [
       "  0%|          | 0/50 [00:00<?, ?it/s]"
      ]
     },
     "metadata": {},
     "output_type": "display_data"
    },
    {
     "data": {
      "application/vnd.jupyter.widget-view+json": {
       "model_id": "",
       "version_major": 2,
       "version_minor": 0
      },
      "text/plain": [
       "  0%|          | 0/100 [00:00<?, ?it/s]"
      ]
     },
     "metadata": {},
     "output_type": "display_data"
    },
    {
     "data": {
      "application/vnd.jupyter.widget-view+json": {
       "model_id": "",
       "version_major": 2,
       "version_minor": 0
      },
      "text/plain": [
       "  0%|          | 0/50 [00:00<?, ?it/s]"
      ]
     },
     "metadata": {},
     "output_type": "display_data"
    },
    {
     "data": {
      "application/vnd.jupyter.widget-view+json": {
       "model_id": "",
       "version_major": 2,
       "version_minor": 0
      },
      "text/plain": [
       "  0%|          | 0/100 [00:00<?, ?it/s]"
      ]
     },
     "metadata": {},
     "output_type": "display_data"
    },
    {
     "data": {
      "application/vnd.jupyter.widget-view+json": {
       "model_id": "",
       "version_major": 2,
       "version_minor": 0
      },
      "text/plain": [
       "  0%|          | 0/50 [00:00<?, ?it/s]"
      ]
     },
     "metadata": {},
     "output_type": "display_data"
    },
    {
     "data": {
      "application/vnd.jupyter.widget-view+json": {
       "model_id": "",
       "version_major": 2,
       "version_minor": 0
      },
      "text/plain": [
       "  0%|          | 0/100 [00:00<?, ?it/s]"
      ]
     },
     "metadata": {},
     "output_type": "display_data"
    },
    {
     "data": {
      "application/vnd.jupyter.widget-view+json": {
       "model_id": "",
       "version_major": 2,
       "version_minor": 0
      },
      "text/plain": [
       "  0%|          | 0/50 [00:00<?, ?it/s]"
      ]
     },
     "metadata": {},
     "output_type": "display_data"
    },
    {
     "data": {
      "application/vnd.jupyter.widget-view+json": {
       "model_id": "",
       "version_major": 2,
       "version_minor": 0
      },
      "text/plain": [
       "  0%|          | 0/100 [00:00<?, ?it/s]"
      ]
     },
     "metadata": {},
     "output_type": "display_data"
    },
    {
     "data": {
      "application/vnd.jupyter.widget-view+json": {
       "model_id": "",
       "version_major": 2,
       "version_minor": 0
      },
      "text/plain": [
       "  0%|          | 0/50 [00:00<?, ?it/s]"
      ]
     },
     "metadata": {},
     "output_type": "display_data"
    },
    {
     "data": {
      "application/vnd.jupyter.widget-view+json": {
       "model_id": "",
       "version_major": 2,
       "version_minor": 0
      },
      "text/plain": [
       "  0%|          | 0/100 [00:00<?, ?it/s]"
      ]
     },
     "metadata": {},
     "output_type": "display_data"
    },
    {
     "data": {
      "application/vnd.jupyter.widget-view+json": {
       "model_id": "",
       "version_major": 2,
       "version_minor": 0
      },
      "text/plain": [
       "  0%|          | 0/50 [00:00<?, ?it/s]"
      ]
     },
     "metadata": {},
     "output_type": "display_data"
    },
    {
     "data": {
      "application/vnd.jupyter.widget-view+json": {
       "model_id": "",
       "version_major": 2,
       "version_minor": 0
      },
      "text/plain": [
       "  0%|          | 0/100 [00:00<?, ?it/s]"
      ]
     },
     "metadata": {},
     "output_type": "display_data"
    },
    {
     "data": {
      "application/vnd.jupyter.widget-view+json": {
       "model_id": "",
       "version_major": 2,
       "version_minor": 0
      },
      "text/plain": [
       "  0%|          | 0/50 [00:00<?, ?it/s]"
      ]
     },
     "metadata": {},
     "output_type": "display_data"
    },
    {
     "data": {
      "application/vnd.jupyter.widget-view+json": {
       "model_id": "",
       "version_major": 2,
       "version_minor": 0
      },
      "text/plain": [
       "  0%|          | 0/100 [00:00<?, ?it/s]"
      ]
     },
     "metadata": {},
     "output_type": "display_data"
    },
    {
     "data": {
      "application/vnd.jupyter.widget-view+json": {
       "model_id": "",
       "version_major": 2,
       "version_minor": 0
      },
      "text/plain": [
       "  0%|          | 0/50 [00:00<?, ?it/s]"
      ]
     },
     "metadata": {},
     "output_type": "display_data"
    },
    {
     "data": {
      "application/vnd.jupyter.widget-view+json": {
       "model_id": "",
       "version_major": 2,
       "version_minor": 0
      },
      "text/plain": [
       "  0%|          | 0/100 [00:00<?, ?it/s]"
      ]
     },
     "metadata": {},
     "output_type": "display_data"
    },
    {
     "data": {
      "application/vnd.jupyter.widget-view+json": {
       "model_id": "",
       "version_major": 2,
       "version_minor": 0
      },
      "text/plain": [
       "  0%|          | 0/50 [00:00<?, ?it/s]"
      ]
     },
     "metadata": {},
     "output_type": "display_data"
    },
    {
     "data": {
      "application/vnd.jupyter.widget-view+json": {
       "model_id": "",
       "version_major": 2,
       "version_minor": 0
      },
      "text/plain": [
       "  0%|          | 0/100 [00:00<?, ?it/s]"
      ]
     },
     "metadata": {},
     "output_type": "display_data"
    },
    {
     "data": {
      "application/vnd.jupyter.widget-view+json": {
       "model_id": "",
       "version_major": 2,
       "version_minor": 0
      },
      "text/plain": [
       "  0%|          | 0/50 [00:00<?, ?it/s]"
      ]
     },
     "metadata": {},
     "output_type": "display_data"
    },
    {
     "data": {
      "application/vnd.jupyter.widget-view+json": {
       "model_id": "",
       "version_major": 2,
       "version_minor": 0
      },
      "text/plain": [
       "  0%|          | 0/100 [00:00<?, ?it/s]"
      ]
     },
     "metadata": {},
     "output_type": "display_data"
    },
    {
     "data": {
      "application/vnd.jupyter.widget-view+json": {
       "model_id": "",
       "version_major": 2,
       "version_minor": 0
      },
      "text/plain": [
       "  0%|          | 0/50 [00:00<?, ?it/s]"
      ]
     },
     "metadata": {},
     "output_type": "display_data"
    },
    {
     "data": {
      "application/vnd.jupyter.widget-view+json": {
       "model_id": "",
       "version_major": 2,
       "version_minor": 0
      },
      "text/plain": [
       "  0%|          | 0/100 [00:00<?, ?it/s]"
      ]
     },
     "metadata": {},
     "output_type": "display_data"
    },
    {
     "data": {
      "application/vnd.jupyter.widget-view+json": {
       "model_id": "",
       "version_major": 2,
       "version_minor": 0
      },
      "text/plain": [
       "  0%|          | 0/50 [00:00<?, ?it/s]"
      ]
     },
     "metadata": {},
     "output_type": "display_data"
    },
    {
     "data": {
      "application/vnd.jupyter.widget-view+json": {
       "model_id": "",
       "version_major": 2,
       "version_minor": 0
      },
      "text/plain": [
       "  0%|          | 0/100 [00:00<?, ?it/s]"
      ]
     },
     "metadata": {},
     "output_type": "display_data"
    },
    {
     "data": {
      "application/vnd.jupyter.widget-view+json": {
       "model_id": "",
       "version_major": 2,
       "version_minor": 0
      },
      "text/plain": [
       "  0%|          | 0/50 [00:00<?, ?it/s]"
      ]
     },
     "metadata": {},
     "output_type": "display_data"
    },
    {
     "data": {
      "application/vnd.jupyter.widget-view+json": {
       "model_id": "",
       "version_major": 2,
       "version_minor": 0
      },
      "text/plain": [
       "  0%|          | 0/100 [00:00<?, ?it/s]"
      ]
     },
     "metadata": {},
     "output_type": "display_data"
    },
    {
     "data": {
      "application/vnd.jupyter.widget-view+json": {
       "model_id": "",
       "version_major": 2,
       "version_minor": 0
      },
      "text/plain": [
       "  0%|          | 0/50 [00:00<?, ?it/s]"
      ]
     },
     "metadata": {},
     "output_type": "display_data"
    },
    {
     "data": {
      "application/vnd.jupyter.widget-view+json": {
       "model_id": "",
       "version_major": 2,
       "version_minor": 0
      },
      "text/plain": [
       "  0%|          | 0/100 [00:00<?, ?it/s]"
      ]
     },
     "metadata": {},
     "output_type": "display_data"
    },
    {
     "data": {
      "application/vnd.jupyter.widget-view+json": {
       "model_id": "",
       "version_major": 2,
       "version_minor": 0
      },
      "text/plain": [
       "  0%|          | 0/50 [00:00<?, ?it/s]"
      ]
     },
     "metadata": {},
     "output_type": "display_data"
    },
    {
     "data": {
      "application/vnd.jupyter.widget-view+json": {
       "model_id": "",
       "version_major": 2,
       "version_minor": 0
      },
      "text/plain": [
       "  0%|          | 0/100 [00:00<?, ?it/s]"
      ]
     },
     "metadata": {},
     "output_type": "display_data"
    },
    {
     "data": {
      "application/vnd.jupyter.widget-view+json": {
       "model_id": "",
       "version_major": 2,
       "version_minor": 0
      },
      "text/plain": [
       "  0%|          | 0/50 [00:00<?, ?it/s]"
      ]
     },
     "metadata": {},
     "output_type": "display_data"
    },
    {
     "data": {
      "application/vnd.jupyter.widget-view+json": {
       "model_id": "",
       "version_major": 2,
       "version_minor": 0
      },
      "text/plain": [
       "  0%|          | 0/100 [00:00<?, ?it/s]"
      ]
     },
     "metadata": {},
     "output_type": "display_data"
    },
    {
     "data": {
      "application/vnd.jupyter.widget-view+json": {
       "model_id": "",
       "version_major": 2,
       "version_minor": 0
      },
      "text/plain": [
       "  0%|          | 0/50 [00:00<?, ?it/s]"
      ]
     },
     "metadata": {},
     "output_type": "display_data"
    },
    {
     "data": {
      "application/vnd.jupyter.widget-view+json": {
       "model_id": "",
       "version_major": 2,
       "version_minor": 0
      },
      "text/plain": [
       "  0%|          | 0/100 [00:00<?, ?it/s]"
      ]
     },
     "metadata": {},
     "output_type": "display_data"
    },
    {
     "data": {
      "application/vnd.jupyter.widget-view+json": {
       "model_id": "",
       "version_major": 2,
       "version_minor": 0
      },
      "text/plain": [
       "  0%|          | 0/50 [00:00<?, ?it/s]"
      ]
     },
     "metadata": {},
     "output_type": "display_data"
    },
    {
     "data": {
      "application/vnd.jupyter.widget-view+json": {
       "model_id": "",
       "version_major": 2,
       "version_minor": 0
      },
      "text/plain": [
       "  0%|          | 0/100 [00:00<?, ?it/s]"
      ]
     },
     "metadata": {},
     "output_type": "display_data"
    },
    {
     "data": {
      "application/vnd.jupyter.widget-view+json": {
       "model_id": "",
       "version_major": 2,
       "version_minor": 0
      },
      "text/plain": [
       "  0%|          | 0/50 [00:00<?, ?it/s]"
      ]
     },
     "metadata": {},
     "output_type": "display_data"
    },
    {
     "data": {
      "application/vnd.jupyter.widget-view+json": {
       "model_id": "",
       "version_major": 2,
       "version_minor": 0
      },
      "text/plain": [
       "  0%|          | 0/100 [00:00<?, ?it/s]"
      ]
     },
     "metadata": {},
     "output_type": "display_data"
    },
    {
     "data": {
      "application/vnd.jupyter.widget-view+json": {
       "model_id": "",
       "version_major": 2,
       "version_minor": 0
      },
      "text/plain": [
       "  0%|          | 0/50 [00:00<?, ?it/s]"
      ]
     },
     "metadata": {},
     "output_type": "display_data"
    },
    {
     "data": {
      "application/vnd.jupyter.widget-view+json": {
       "model_id": "",
       "version_major": 2,
       "version_minor": 0
      },
      "text/plain": [
       "  0%|          | 0/100 [00:00<?, ?it/s]"
      ]
     },
     "metadata": {},
     "output_type": "display_data"
    },
    {
     "data": {
      "application/vnd.jupyter.widget-view+json": {
       "model_id": "",
       "version_major": 2,
       "version_minor": 0
      },
      "text/plain": [
       "  0%|          | 0/50 [00:00<?, ?it/s]"
      ]
     },
     "metadata": {},
     "output_type": "display_data"
    },
    {
     "data": {
      "application/vnd.jupyter.widget-view+json": {
       "model_id": "",
       "version_major": 2,
       "version_minor": 0
      },
      "text/plain": [
       "  0%|          | 0/100 [00:00<?, ?it/s]"
      ]
     },
     "metadata": {},
     "output_type": "display_data"
    },
    {
     "data": {
      "application/vnd.jupyter.widget-view+json": {
       "model_id": "",
       "version_major": 2,
       "version_minor": 0
      },
      "text/plain": [
       "  0%|          | 0/50 [00:00<?, ?it/s]"
      ]
     },
     "metadata": {},
     "output_type": "display_data"
    },
    {
     "data": {
      "application/vnd.jupyter.widget-view+json": {
       "model_id": "",
       "version_major": 2,
       "version_minor": 0
      },
      "text/plain": [
       "  0%|          | 0/100 [00:00<?, ?it/s]"
      ]
     },
     "metadata": {},
     "output_type": "display_data"
    },
    {
     "data": {
      "application/vnd.jupyter.widget-view+json": {
       "model_id": "",
       "version_major": 2,
       "version_minor": 0
      },
      "text/plain": [
       "  0%|          | 0/50 [00:00<?, ?it/s]"
      ]
     },
     "metadata": {},
     "output_type": "display_data"
    },
    {
     "data": {
      "application/vnd.jupyter.widget-view+json": {
       "model_id": "",
       "version_major": 2,
       "version_minor": 0
      },
      "text/plain": [
       "  0%|          | 0/100 [00:00<?, ?it/s]"
      ]
     },
     "metadata": {},
     "output_type": "display_data"
    },
    {
     "data": {
      "application/vnd.jupyter.widget-view+json": {
       "model_id": "",
       "version_major": 2,
       "version_minor": 0
      },
      "text/plain": [
       "  0%|          | 0/50 [00:00<?, ?it/s]"
      ]
     },
     "metadata": {},
     "output_type": "display_data"
    },
    {
     "data": {
      "application/vnd.jupyter.widget-view+json": {
       "model_id": "",
       "version_major": 2,
       "version_minor": 0
      },
      "text/plain": [
       "  0%|          | 0/100 [00:00<?, ?it/s]"
      ]
     },
     "metadata": {},
     "output_type": "display_data"
    },
    {
     "data": {
      "application/vnd.jupyter.widget-view+json": {
       "model_id": "",
       "version_major": 2,
       "version_minor": 0
      },
      "text/plain": [
       "  0%|          | 0/50 [00:00<?, ?it/s]"
      ]
     },
     "metadata": {},
     "output_type": "display_data"
    },
    {
     "data": {
      "application/vnd.jupyter.widget-view+json": {
       "model_id": "",
       "version_major": 2,
       "version_minor": 0
      },
      "text/plain": [
       "  0%|          | 0/100 [00:00<?, ?it/s]"
      ]
     },
     "metadata": {},
     "output_type": "display_data"
    },
    {
     "data": {
      "application/vnd.jupyter.widget-view+json": {
       "model_id": "",
       "version_major": 2,
       "version_minor": 0
      },
      "text/plain": [
       "  0%|          | 0/50 [00:00<?, ?it/s]"
      ]
     },
     "metadata": {},
     "output_type": "display_data"
    },
    {
     "data": {
      "application/vnd.jupyter.widget-view+json": {
       "model_id": "",
       "version_major": 2,
       "version_minor": 0
      },
      "text/plain": [
       "  0%|          | 0/100 [00:00<?, ?it/s]"
      ]
     },
     "metadata": {},
     "output_type": "display_data"
    },
    {
     "data": {
      "application/vnd.jupyter.widget-view+json": {
       "model_id": "",
       "version_major": 2,
       "version_minor": 0
      },
      "text/plain": [
       "  0%|          | 0/50 [00:00<?, ?it/s]"
      ]
     },
     "metadata": {},
     "output_type": "display_data"
    },
    {
     "data": {
      "application/vnd.jupyter.widget-view+json": {
       "model_id": "",
       "version_major": 2,
       "version_minor": 0
      },
      "text/plain": [
       "  0%|          | 0/100 [00:00<?, ?it/s]"
      ]
     },
     "metadata": {},
     "output_type": "display_data"
    },
    {
     "data": {
      "application/vnd.jupyter.widget-view+json": {
       "model_id": "",
       "version_major": 2,
       "version_minor": 0
      },
      "text/plain": [
       "  0%|          | 0/50 [00:00<?, ?it/s]"
      ]
     },
     "metadata": {},
     "output_type": "display_data"
    },
    {
     "data": {
      "application/vnd.jupyter.widget-view+json": {
       "model_id": "",
       "version_major": 2,
       "version_minor": 0
      },
      "text/plain": [
       "  0%|          | 0/100 [00:00<?, ?it/s]"
      ]
     },
     "metadata": {},
     "output_type": "display_data"
    },
    {
     "data": {
      "application/vnd.jupyter.widget-view+json": {
       "model_id": "",
       "version_major": 2,
       "version_minor": 0
      },
      "text/plain": [
       "  0%|          | 0/50 [00:00<?, ?it/s]"
      ]
     },
     "metadata": {},
     "output_type": "display_data"
    },
    {
     "data": {
      "application/vnd.jupyter.widget-view+json": {
       "model_id": "",
       "version_major": 2,
       "version_minor": 0
      },
      "text/plain": [
       "  0%|          | 0/100 [00:00<?, ?it/s]"
      ]
     },
     "metadata": {},
     "output_type": "display_data"
    },
    {
     "data": {
      "application/vnd.jupyter.widget-view+json": {
       "model_id": "",
       "version_major": 2,
       "version_minor": 0
      },
      "text/plain": [
       "  0%|          | 0/50 [00:00<?, ?it/s]"
      ]
     },
     "metadata": {},
     "output_type": "display_data"
    },
    {
     "data": {
      "application/vnd.jupyter.widget-view+json": {
       "model_id": "",
       "version_major": 2,
       "version_minor": 0
      },
      "text/plain": [
       "  0%|          | 0/100 [00:00<?, ?it/s]"
      ]
     },
     "metadata": {},
     "output_type": "display_data"
    },
    {
     "data": {
      "application/vnd.jupyter.widget-view+json": {
       "model_id": "",
       "version_major": 2,
       "version_minor": 0
      },
      "text/plain": [
       "  0%|          | 0/50 [00:00<?, ?it/s]"
      ]
     },
     "metadata": {},
     "output_type": "display_data"
    },
    {
     "data": {
      "application/vnd.jupyter.widget-view+json": {
       "model_id": "",
       "version_major": 2,
       "version_minor": 0
      },
      "text/plain": [
       "  0%|          | 0/100 [00:00<?, ?it/s]"
      ]
     },
     "metadata": {},
     "output_type": "display_data"
    },
    {
     "data": {
      "application/vnd.jupyter.widget-view+json": {
       "model_id": "",
       "version_major": 2,
       "version_minor": 0
      },
      "text/plain": [
       "  0%|          | 0/50 [00:00<?, ?it/s]"
      ]
     },
     "metadata": {},
     "output_type": "display_data"
    },
    {
     "data": {
      "application/vnd.jupyter.widget-view+json": {
       "model_id": "",
       "version_major": 2,
       "version_minor": 0
      },
      "text/plain": [
       "  0%|          | 0/100 [00:00<?, ?it/s]"
      ]
     },
     "metadata": {},
     "output_type": "display_data"
    },
    {
     "data": {
      "application/vnd.jupyter.widget-view+json": {
       "model_id": "",
       "version_major": 2,
       "version_minor": 0
      },
      "text/plain": [
       "  0%|          | 0/50 [00:00<?, ?it/s]"
      ]
     },
     "metadata": {},
     "output_type": "display_data"
    },
    {
     "data": {
      "application/vnd.jupyter.widget-view+json": {
       "model_id": "",
       "version_major": 2,
       "version_minor": 0
      },
      "text/plain": [
       "  0%|          | 0/100 [00:00<?, ?it/s]"
      ]
     },
     "metadata": {},
     "output_type": "display_data"
    },
    {
     "data": {
      "application/vnd.jupyter.widget-view+json": {
       "model_id": "",
       "version_major": 2,
       "version_minor": 0
      },
      "text/plain": [
       "  0%|          | 0/50 [00:00<?, ?it/s]"
      ]
     },
     "metadata": {},
     "output_type": "display_data"
    },
    {
     "data": {
      "application/vnd.jupyter.widget-view+json": {
       "model_id": "",
       "version_major": 2,
       "version_minor": 0
      },
      "text/plain": [
       "  0%|          | 0/100 [00:00<?, ?it/s]"
      ]
     },
     "metadata": {},
     "output_type": "display_data"
    },
    {
     "data": {
      "application/vnd.jupyter.widget-view+json": {
       "model_id": "",
       "version_major": 2,
       "version_minor": 0
      },
      "text/plain": [
       "  0%|          | 0/50 [00:00<?, ?it/s]"
      ]
     },
     "metadata": {},
     "output_type": "display_data"
    },
    {
     "data": {
      "application/vnd.jupyter.widget-view+json": {
       "model_id": "",
       "version_major": 2,
       "version_minor": 0
      },
      "text/plain": [
       "  0%|          | 0/100 [00:00<?, ?it/s]"
      ]
     },
     "metadata": {},
     "output_type": "display_data"
    },
    {
     "data": {
      "application/vnd.jupyter.widget-view+json": {
       "model_id": "",
       "version_major": 2,
       "version_minor": 0
      },
      "text/plain": [
       "  0%|          | 0/50 [00:00<?, ?it/s]"
      ]
     },
     "metadata": {},
     "output_type": "display_data"
    },
    {
     "data": {
      "application/vnd.jupyter.widget-view+json": {
       "model_id": "",
       "version_major": 2,
       "version_minor": 0
      },
      "text/plain": [
       "  0%|          | 0/100 [00:00<?, ?it/s]"
      ]
     },
     "metadata": {},
     "output_type": "display_data"
    },
    {
     "data": {
      "application/vnd.jupyter.widget-view+json": {
       "model_id": "",
       "version_major": 2,
       "version_minor": 0
      },
      "text/plain": [
       "  0%|          | 0/50 [00:00<?, ?it/s]"
      ]
     },
     "metadata": {},
     "output_type": "display_data"
    },
    {
     "data": {
      "application/vnd.jupyter.widget-view+json": {
       "model_id": "",
       "version_major": 2,
       "version_minor": 0
      },
      "text/plain": [
       "  0%|          | 0/100 [00:00<?, ?it/s]"
      ]
     },
     "metadata": {},
     "output_type": "display_data"
    },
    {
     "data": {
      "application/vnd.jupyter.widget-view+json": {
       "model_id": "",
       "version_major": 2,
       "version_minor": 0
      },
      "text/plain": [
       "  0%|          | 0/50 [00:00<?, ?it/s]"
      ]
     },
     "metadata": {},
     "output_type": "display_data"
    },
    {
     "data": {
      "application/vnd.jupyter.widget-view+json": {
       "model_id": "",
       "version_major": 2,
       "version_minor": 0
      },
      "text/plain": [
       "  0%|          | 0/100 [00:00<?, ?it/s]"
      ]
     },
     "metadata": {},
     "output_type": "display_data"
    },
    {
     "data": {
      "application/vnd.jupyter.widget-view+json": {
       "model_id": "",
       "version_major": 2,
       "version_minor": 0
      },
      "text/plain": [
       "  0%|          | 0/50 [00:00<?, ?it/s]"
      ]
     },
     "metadata": {},
     "output_type": "display_data"
    },
    {
     "data": {
      "application/vnd.jupyter.widget-view+json": {
       "model_id": "",
       "version_major": 2,
       "version_minor": 0
      },
      "text/plain": [
       "  0%|          | 0/100 [00:00<?, ?it/s]"
      ]
     },
     "metadata": {},
     "output_type": "display_data"
    },
    {
     "data": {
      "application/vnd.jupyter.widget-view+json": {
       "model_id": "",
       "version_major": 2,
       "version_minor": 0
      },
      "text/plain": [
       "  0%|          | 0/50 [00:00<?, ?it/s]"
      ]
     },
     "metadata": {},
     "output_type": "display_data"
    },
    {
     "data": {
      "application/vnd.jupyter.widget-view+json": {
       "model_id": "",
       "version_major": 2,
       "version_minor": 0
      },
      "text/plain": [
       "  0%|          | 0/100 [00:00<?, ?it/s]"
      ]
     },
     "metadata": {},
     "output_type": "display_data"
    },
    {
     "data": {
      "application/vnd.jupyter.widget-view+json": {
       "model_id": "",
       "version_major": 2,
       "version_minor": 0
      },
      "text/plain": [
       "  0%|          | 0/50 [00:00<?, ?it/s]"
      ]
     },
     "metadata": {},
     "output_type": "display_data"
    },
    {
     "data": {
      "application/vnd.jupyter.widget-view+json": {
       "model_id": "",
       "version_major": 2,
       "version_minor": 0
      },
      "text/plain": [
       "  0%|          | 0/100 [00:00<?, ?it/s]"
      ]
     },
     "metadata": {},
     "output_type": "display_data"
    },
    {
     "data": {
      "application/vnd.jupyter.widget-view+json": {
       "model_id": "",
       "version_major": 2,
       "version_minor": 0
      },
      "text/plain": [
       "  0%|          | 0/50 [00:00<?, ?it/s]"
      ]
     },
     "metadata": {},
     "output_type": "display_data"
    },
    {
     "data": {
      "application/vnd.jupyter.widget-view+json": {
       "model_id": "",
       "version_major": 2,
       "version_minor": 0
      },
      "text/plain": [
       "  0%|          | 0/100 [00:00<?, ?it/s]"
      ]
     },
     "metadata": {},
     "output_type": "display_data"
    },
    {
     "data": {
      "application/vnd.jupyter.widget-view+json": {
       "model_id": "",
       "version_major": 2,
       "version_minor": 0
      },
      "text/plain": [
       "  0%|          | 0/50 [00:00<?, ?it/s]"
      ]
     },
     "metadata": {},
     "output_type": "display_data"
    },
    {
     "data": {
      "application/vnd.jupyter.widget-view+json": {
       "model_id": "",
       "version_major": 2,
       "version_minor": 0
      },
      "text/plain": [
       "  0%|          | 0/100 [00:00<?, ?it/s]"
      ]
     },
     "metadata": {},
     "output_type": "display_data"
    },
    {
     "data": {
      "application/vnd.jupyter.widget-view+json": {
       "model_id": "",
       "version_major": 2,
       "version_minor": 0
      },
      "text/plain": [
       "  0%|          | 0/50 [00:00<?, ?it/s]"
      ]
     },
     "metadata": {},
     "output_type": "display_data"
    },
    {
     "data": {
      "application/vnd.jupyter.widget-view+json": {
       "model_id": "",
       "version_major": 2,
       "version_minor": 0
      },
      "text/plain": [
       "  0%|          | 0/100 [00:00<?, ?it/s]"
      ]
     },
     "metadata": {},
     "output_type": "display_data"
    },
    {
     "data": {
      "application/vnd.jupyter.widget-view+json": {
       "model_id": "",
       "version_major": 2,
       "version_minor": 0
      },
      "text/plain": [
       "  0%|          | 0/50 [00:00<?, ?it/s]"
      ]
     },
     "metadata": {},
     "output_type": "display_data"
    },
    {
     "data": {
      "application/vnd.jupyter.widget-view+json": {
       "model_id": "",
       "version_major": 2,
       "version_minor": 0
      },
      "text/plain": [
       "  0%|          | 0/100 [00:00<?, ?it/s]"
      ]
     },
     "metadata": {},
     "output_type": "display_data"
    },
    {
     "data": {
      "application/vnd.jupyter.widget-view+json": {
       "model_id": "",
       "version_major": 2,
       "version_minor": 0
      },
      "text/plain": [
       "  0%|          | 0/50 [00:00<?, ?it/s]"
      ]
     },
     "metadata": {},
     "output_type": "display_data"
    },
    {
     "data": {
      "application/vnd.jupyter.widget-view+json": {
       "model_id": "",
       "version_major": 2,
       "version_minor": 0
      },
      "text/plain": [
       "  0%|          | 0/100 [00:00<?, ?it/s]"
      ]
     },
     "metadata": {},
     "output_type": "display_data"
    },
    {
     "data": {
      "application/vnd.jupyter.widget-view+json": {
       "model_id": "",
       "version_major": 2,
       "version_minor": 0
      },
      "text/plain": [
       "  0%|          | 0/50 [00:00<?, ?it/s]"
      ]
     },
     "metadata": {},
     "output_type": "display_data"
    },
    {
     "data": {
      "application/vnd.jupyter.widget-view+json": {
       "model_id": "",
       "version_major": 2,
       "version_minor": 0
      },
      "text/plain": [
       "  0%|          | 0/100 [00:00<?, ?it/s]"
      ]
     },
     "metadata": {},
     "output_type": "display_data"
    },
    {
     "data": {
      "application/vnd.jupyter.widget-view+json": {
       "model_id": "",
       "version_major": 2,
       "version_minor": 0
      },
      "text/plain": [
       "  0%|          | 0/50 [00:00<?, ?it/s]"
      ]
     },
     "metadata": {},
     "output_type": "display_data"
    },
    {
     "data": {
      "application/vnd.jupyter.widget-view+json": {
       "model_id": "",
       "version_major": 2,
       "version_minor": 0
      },
      "text/plain": [
       "  0%|          | 0/100 [00:00<?, ?it/s]"
      ]
     },
     "metadata": {},
     "output_type": "display_data"
    },
    {
     "data": {
      "application/vnd.jupyter.widget-view+json": {
       "model_id": "",
       "version_major": 2,
       "version_minor": 0
      },
      "text/plain": [
       "  0%|          | 0/50 [00:00<?, ?it/s]"
      ]
     },
     "metadata": {},
     "output_type": "display_data"
    },
    {
     "data": {
      "application/vnd.jupyter.widget-view+json": {
       "model_id": "",
       "version_major": 2,
       "version_minor": 0
      },
      "text/plain": [
       "  0%|          | 0/100 [00:00<?, ?it/s]"
      ]
     },
     "metadata": {},
     "output_type": "display_data"
    },
    {
     "data": {
      "application/vnd.jupyter.widget-view+json": {
       "model_id": "",
       "version_major": 2,
       "version_minor": 0
      },
      "text/plain": [
       "  0%|          | 0/50 [00:00<?, ?it/s]"
      ]
     },
     "metadata": {},
     "output_type": "display_data"
    }
   ],
   "source": [
    "maxIter = 100\n",
    "showSubProg = True\n",
    "penalty = \"GroupLasso\"\n",
    "chDiffBoth = torch.tensor(1e10) # Stopping rule\n",
    "        \n",
    "# lastMuTheta = DiffMatOpt(colStackFn(paraMuInit), R2) # R2x(dF-1)\n",
    "lastMuTheta = DiffMatOpt(colStackFn(paraMuInitStd), R2) # R2x(dF-1)\n",
    "fixedNuMat = paraNuInit\n",
    "fixedNuMatC = torch.complex(fixedNuMat[:R, :], fixedNuMat[R:, :]).type_as(pUinv) # complex number, R x dT \n",
    "\n",
    "# stopLastMuMat = paraMuInit\n",
    "stopLastMuMat = paraMuInitStd\n",
    "stopLastNuMat = paraNuInit\n",
    "        \n",
    "pbar = tqdm(range(maxIter))\n",
    "for i in pbar:\n",
    "    if i == 0:\n",
    "        pbar.set_description(f\"Outer Loop: The chdiff is {chDiffBoth.item():.3e}.\")\n",
    "    else:\n",
    "        pbar.set_description(f\"Outer Loop:\"\n",
    "                             f\"{chDiffMu.item():.3e}, \"\n",
    "                             f\"{chDiffNu.item():.3e}, \"\n",
    "                             f\"{chDiffBoth.item():.3e}.\")\n",
    "    optMu = OneStepOpt(X=rawX, Y=Y, pUinv=pUinv, fixedParas=fixedNuMat, lastTheta=lastMuTheta, penalty=penalty,\n",
    "                       alp=alps[0], beta=betas[0], lam=lams[0], \n",
    "                       a=As[0], iterNum=iterNums[0], rho=rhos[0], iterC=iterCs[0])\n",
    "    \n",
    "    # fixedNuMatC = torch.tensor(Nus)\n",
    "    muY = Y\n",
    "    muX = X * (fixedNuMatC.T)\n",
    "    # muY = Y * (1/fixedNuMatC.T)\n",
    "    optMu.NewXr = muX.real\n",
    "    optMu.NewXi = muX.imag\n",
    "    optMu.NewYr = muY.real\n",
    "    optMu.NewYi = muY.imag\n",
    "    optMu(showSubProg)\n",
    "    \n",
    "    # fixedMuMat = optMu.GamMat\n",
    "    fixedMuMat = optMu.GamMatStd\n",
    "    fixedMuMatC = torch.complex(fixedMuMat[:R, :], fixedMuMat[R:, :]).type_as(pUinv) # complex number, R x dT \n",
    "    \n",
    "    if i == 0:\n",
    "        lastNuTheta = DiffMatOpt(colStackFn(fixedNuMat), R2)\n",
    "    else:\n",
    "        lastNuTheta = optNu.lastTheta\n",
    "    \n",
    "    optNu = OneStepOpt(X=rawX, Y=Y, pUinv=pUinv, fixedParas=fixedMuMat, lastTheta=lastNuTheta, penalty=penalty,\n",
    "                       alp=alps[1], beta=betas[1], lam=lams[1], \n",
    "                       a=As[1], iterNum=iterNums[1], rho=rhos[1], iterC=iterCs[1])\n",
    "    # fixedMuMatC = torch.tensor(stdMus)\n",
    "    nuY = Y \n",
    "    nuX = X * (fixedMuMatC.T).unsqueeze(1)\n",
    "    #nuY = Y * (1/fixedMuMatC.T).unsqueeze(1)\n",
    "    optNu.NewXr = nuX.real\n",
    "    optNu.NewXi = nuX.imag\n",
    "    optNu.NewYr = nuY.real\n",
    "    optNu.NewYi = nuY.imag\n",
    "    optNu(showSubProg)\n",
    "    \n",
    "    fixedNuMat = optNu.GamMat\n",
    "    fixedNuMatC = torch.complex(fixedNuMat[:R, :], fixedNuMat[R:, :]).type_as(pUinv) # complex number, R x dT \n",
    "    # lastMuTheta = optMu.lastTheta\n",
    "    lastMuTheta = optMu.lastThetaStd\n",
    "    rhos = [optMu.rho, optNu.rho]\n",
    "    \n",
    "    chDiffMu = torch.norm(stopLastMuMat-fixedMuMat)/torch.norm(stopLastMuMat)\n",
    "    chDiffNu = torch.norm(stopLastNuMat-fixedNuMat)/torch.norm(stopLastNuMat)\n",
    "    chDiffBoth = torch.max(chDiffMu,chDiffNu)\n",
    "    \n",
    "    stopLastMuMat = fixedMuMat\n",
    "    stopLastNuMat = fixedNuMat\n",
    "    \n",
    "    if chDiffBoth <= outIterC:\n",
    "        break"
   ]
  },
  {
   "cell_type": "code",
   "execution_count": 24,
   "id": "e580b744",
   "metadata": {},
   "outputs": [],
   "source": [
    "eMus = optMu.GamMatStd.cpu().numpy()\n",
    "eThetas = optMu.ThetaMatStd.cpu().numpy()\n",
    "tMus = np.concatenate([stdMus.real, stdMus.imag])\n",
    "# eMus = optMu.GamMat.cpu().numpy()\n",
    "# eThetas = optMu.ThetaMat.cpu().numpy()\n",
    "# tMus = np.concatenate([Mus.real, Mus.imag])\n",
    "eDiffMus = np.diff(eMus)"
   ]
  },
  {
   "cell_type": "code",
   "execution_count": 25,
   "id": "836c7c4e",
   "metadata": {},
   "outputs": [
    {
     "data": {
      "text/plain": [
       "([], [])"
      ]
     },
     "execution_count": 25,
     "metadata": {},
     "output_type": "execute_result"
    },
    {
     "data": {
      "image/png": "[encoded data removed]",
      "text/plain": [
       "<Figure size 1440x864 with 12 Axes>"
      ]
     },
     "metadata": {
      "needs_background": "light"
     },
     "output_type": "display_data"
    }
   ],
   "source": [
    "plt.figure(figsize=[20, 12])\n",
    "\n",
    "is_annot = True\n",
    "plt.subplot(321)\n",
    "plt.title(\"Ground Truth\")\n",
    "sns.heatmap(np.abs(tMus), cmap=\"YlOrRd\",  annot=is_annot)\n",
    "plt.xticks([])\n",
    "\n",
    "plt.subplot(323)\n",
    "plt.title(\"Estimated Gam\")\n",
    "sns.heatmap(np.abs(eMus), cmap=\"YlOrRd\",  annot=is_annot)\n",
    "plt.xticks([])\n",
    "\n",
    "plt.subplot(325)\n",
    "plt.title(\"Abs diff of eGam and tGam\")\n",
    "sns.heatmap(np.abs(np.abs(tMus)-np.abs(eMus)), cmap=\"YlOrRd\",  annot=is_annot)\n",
    "plt.xticks([])\n",
    "\n",
    "plt.subplot(322)\n",
    "plt.title(\"Estimated Theta\")\n",
    "sns.heatmap(np.abs(eThetas), cmap=\"YlOrRd\",  annot=is_annot)\n",
    "plt.xticks([])\n",
    "\n",
    "plt.subplot(324)\n",
    "plt.title(\"Estimated Diff of Gam\")\n",
    "sns.heatmap(np.abs(eDiffMus), cmap=\"YlOrRd\",  annot=is_annot)\n",
    "plt.xticks([])\n",
    "\n",
    "plt.subplot(326)\n",
    "plt.title(\"Truth Theta\")\n",
    "sns.heatmap(np.abs(np.diff(tMus)), cmap=\"YlOrRd\",  annot=is_annot)\n",
    "plt.xticks([])"
   ]
  },
  {
   "cell_type": "code",
   "execution_count": 21,
   "id": "74eafac0",
   "metadata": {},
   "outputs": [],
   "source": [
    "eNus = optNu.GamMat.cpu().numpy()\n",
    "eThetas = optNu.ThetaMat.cpu().numpy()\n",
    "tNus = np.concatenate([Nus.real, Nus.imag])\n",
    "eDiffNus = np.diff(eNus)"
   ]
  },
  {
   "cell_type": "code",
   "execution_count": 22,
   "id": "9ed2feba",
   "metadata": {},
   "outputs": [
    {
     "data": {
      "text/plain": [
       "([], [])"
      ]
     },
     "execution_count": 22,
     "metadata": {},
     "output_type": "execute_result"
    },
    {
     "data": {
      "image/png": "[encoded data removed]",
      "text/plain": [
       "<Figure size 1440x864 with 12 Axes>"
      ]
     },
     "metadata": {
      "needs_background": "light"
     },
     "output_type": "display_data"
    }
   ],
   "source": [
    "plt.figure(figsize=[20, 12])\n",
    "\n",
    "is_annot = False\n",
    "plt.subplot(321)\n",
    "plt.title(\"Ground Truth\")\n",
    "sns.heatmap(np.abs(tNus), cmap=\"YlOrRd\",  annot=is_annot)\n",
    "plt.xticks([])\n",
    "\n",
    "plt.subplot(323)\n",
    "plt.title(\"Estimated Gam\")\n",
    "sns.heatmap(np.abs(eNus), cmap=\"YlOrRd\",  annot=is_annot)\n",
    "plt.xticks([])\n",
    "\n",
    "plt.subplot(325)\n",
    "plt.title(\"Abs diff of eGam and tGam\")\n",
    "sns.heatmap(np.abs(np.abs(tNus)-np.abs(eNus)), cmap=\"YlOrRd\",  annot=is_annot)\n",
    "plt.xticks([])\n",
    "\n",
    "plt.subplot(322)\n",
    "plt.title(\"Estimated Theta\")\n",
    "sns.heatmap(np.abs(eThetas), cmap=\"YlOrRd\",  annot=is_annot)\n",
    "plt.xticks([])\n",
    "\n",
    "plt.subplot(324)\n",
    "plt.title(\"Estimated Diff of Gam\")\n",
    "sns.heatmap(np.abs(eDiffNus), cmap=\"YlOrRd\",  annot=is_annot)\n",
    "plt.xticks([])\n",
    "\n",
    "plt.subplot(326)\n",
    "plt.title(\"Truth Theta\")\n",
    "sns.heatmap(np.abs(np.diff(tNus)), cmap=\"YlOrRd\",  annot=is_annot)\n",
    "plt.xticks([])"
   ]
  },
  {
   "cell_type": "code",
   "execution_count": null,
   "id": "7bbe797a",
   "metadata": {},
   "outputs": [],
   "source": []
  },
  {
   "cell_type": "markdown",
   "id": "9fe94054",
   "metadata": {},
   "source": [
    "### Error "
   ]
  },
  {
   "cell_type": "code",
   "execution_count": 83,
   "id": "d840b8f2",
   "metadata": {},
   "outputs": [],
   "source": [
    "eNusC = np.zeros_like(Nus)\n",
    "eNusC.real = eNus[:R, :]\n",
    "eNusC.imag = eNus[R:, :]\n",
    "eMusC = np.zeros_like(stdMus)\n",
    "eMusC.real = eMus[:R, :]\n",
    "eMusC.imag = eMus[R:, :]\n",
    "\n",
    "eY = torch.zeros_like(X)\n",
    "for df in range(dF):\n",
    "    for dt in range(dT):\n",
    "        cX = X[df, dt, :]\n",
    "        cMu = eMusC[:, df]\n",
    "        cNu = eNusC[:, dt]\n",
    "        # cMu = stdMus[:, df]\n",
    "        # cNu = Nus[:, dt]\n",
    "        pEigVs = torch.tensor(cMu * cNu)\n",
    "        cY = cX * pEigVs + 0*torch.randn(R)\n",
    "        eY[df, dt, :] = cY"
   ]
  },
  {
   "cell_type": "code",
   "execution_count": 84,
   "id": "283c3029",
   "metadata": {},
   "outputs": [
    {
     "data": {
      "text/plain": [
       "tensor(47.8390)"
      ]
     },
     "execution_count": 84,
     "metadata": {},
     "output_type": "execute_result"
    }
   ],
   "source": [
    "torch.norm(eY - Y)"
   ]
  },
  {
   "cell_type": "code",
   "execution_count": 85,
   "id": "d4df569f",
   "metadata": {},
   "outputs": [
    {
     "data": {
      "text/plain": [
       "(1.4145434226811455, 1.2500399132556959)"
      ]
     },
     "execution_count": 85,
     "metadata": {},
     "output_type": "execute_result"
    }
   ],
   "source": [
    "errMu = np.linalg.norm(eMusC -stdMus)/np.linalg.norm(stdMus)\n",
    "errNu = np.linalg.norm(eNusC -Nus)/np.linalg.norm(Nus)\n",
    "(errMu, errNu)"
   ]
  },
  {
   "cell_type": "code",
   "execution_count": 86,
   "id": "411905c5",
   "metadata": {},
   "outputs": [
    {
     "data": {
      "text/plain": [
       "<AxesSubplot:>"
      ]
     },
     "execution_count": 86,
     "metadata": {},
     "output_type": "execute_result"
    },
    {
     "data": {
      "image/png": "[encoded data removed]",
      "text/plain": [
       "<Figure size 720x288 with 4 Axes>"
      ]
     },
     "metadata": {
      "needs_background": "light"
     },
     "output_type": "display_data"
    }
   ],
   "source": [
    "matDiffC = (eY-Y).permute(1, 0, 2).reshape(-1, 20)\n",
    "matDiff = torch.cat([matDiffC.real, matDiffC.imag], dim=1)\n",
    "\n",
    "plt.figure(figsize=[10, 4])\n",
    "plt.subplot(121)\n",
    "sns.heatmap(matDiff.abs().cpu().numpy()>1e-4, cmap=\"YlOrRd\")\n",
    "plt.subplot(122)\n",
    "sns.heatmap(matDiff.abs().cpu().numpy(), cmap=\"YlOrRd\")"
   ]
  },
  {
   "cell_type": "code",
   "execution_count": 87,
   "id": "c2249dfa",
   "metadata": {},
   "outputs": [],
   "source": [
    "tMNsC = stdMus.reshape(-1, 1, 5) * Nus.reshape(-1, 100, 1)\n",
    "eMNsC = eMusC.reshape(-1, 1, 5) * eNusC.reshape(-1, 100, 1)"
   ]
  },
  {
   "cell_type": "code",
   "execution_count": 88,
   "id": "6a697d23",
   "metadata": {},
   "outputs": [
    {
     "data": {
      "text/plain": [
       "<AxesSubplot:>"
      ]
     },
     "execution_count": 88,
     "metadata": {},
     "output_type": "execute_result"
    },
    {
     "data": {
      "image/png": "[encoded data removed]",
      "text/plain": [
       "<Figure size 720x288 with 4 Axes>"
      ]
     },
     "metadata": {
      "needs_background": "light"
     },
     "output_type": "display_data"
    }
   ],
   "source": [
    "diffMNs = np.abs(tMNsC - eMNsC)\n",
    "diffMNsMat = np.transpose(diffMNs, (1, 0, 2)).reshape(100, -1)\n",
    "\n",
    "plt.figure(figsize=[10, 4])\n",
    "plt.subplot(121)\n",
    "sns.heatmap(diffMNsMat >1e-2, cmap=\"YlOrRd\")\n",
    "plt.subplot(122)\n",
    "sns.heatmap(diffMNsMat, cmap=\"YlOrRd\")"
   ]
  },
  {
   "cell_type": "code",
   "execution_count": 89,
   "id": "efca090b",
   "metadata": {},
   "outputs": [
    {
     "data": {
      "text/plain": [
       "9.11719514479952"
      ]
     },
     "execution_count": 89,
     "metadata": {},
     "output_type": "execute_result"
    }
   ],
   "source": [
    "np.linalg.norm(diffMNs)"
   ]
  },
  {
   "cell_type": "code",
   "execution_count": null,
   "id": "22f9ec3a",
   "metadata": {},
   "outputs": [],
   "source": []
  }
 ],
 "metadata": {
  "kernelspec": {
   "display_name": "Python 3",
   "language": "python",
   "name": "python3"
  },
  "language_info": {
   "codemirror_mode": {
    "name": "ipython",
    "version": 3
   },
   "file_extension": ".py",
   "mimetype": "text/x-python",
   "name": "python",
   "nbconvert_exporter": "python",
   "pygments_lexer": "ipython3",
   "version": "3.6.10"
  }
 },
 "nbformat": 4,
 "nbformat_minor": 5
}
